{
 "cells": [
  {
   "cell_type": "markdown",
   "id": "c6dae7ae",
   "metadata": {},
   "source": [
    "# Projet - ITK/VTK - Etude longitudinale de l’évolution d’une tumeur"
   ]
  },
  {
   "cell_type": "code",
   "execution_count": 1,
   "id": "c311b3fa",
   "metadata": {
    "ExecuteTime": {
     "end_time": "2023-07-15T16:21:56.864204671Z",
     "start_time": "2023-07-15T16:21:56.856196380Z"
    }
   },
   "outputs": [],
   "source": [
    "import SimpleITK as sitk\n",
    "import itk\n",
    "\n",
    "# Utility method that either downloads data from the Girder repository or\n",
    "# if already downloaded returns the file name for reading from disk (cached data).\n",
    "\n",
    "# Always write output to a separate directory, we don't want to pollute the source directory. \n",
    "import os\n",
    "OUTPUT_DIR = 'Output'\n"
   ]
  },
  {
   "cell_type": "markdown",
   "id": "913860a2",
   "metadata": {},
   "source": [
    "# Utility Functions"
   ]
  },
  {
   "cell_type": "code",
   "execution_count": 2,
   "id": "fce61775",
   "metadata": {},
   "outputs": [],
   "source": [
    "%matplotlib inline\n",
    "import matplotlib.pyplot as plt\n",
    "\n",
    "from ipywidgets import interact, fixed\n",
    "from IPython.display import clear_output\n",
    "\n",
    "# Callback invoked by the interact IPython method for scrolling through the image stacks of\n",
    "# the two images (moving and fixed).\n",
    "def display_images(fixed_image_z, moving_image_z, fixed_npa, moving_npa):\n",
    "    # Create a figure with two subplots and the specified size.\n",
    "    plt.subplots(1,2,figsize=(10,8))\n",
    "    \n",
    "    # Draw the fixed image in the first subplot.\n",
    "    plt.subplot(1,2,1)\n",
    "    plt.imshow(fixed_npa[fixed_image_z,:,:],cmap=plt.cm.Greys_r);\n",
    "    plt.title('fixed image')\n",
    "    plt.axis('off')\n",
    "    \n",
    "    # Draw the moving image in the second subplot.\n",
    "    plt.subplot(1,2,2)\n",
    "    plt.imshow(moving_npa[moving_image_z,:,:],cmap=plt.cm.Greys_r);\n",
    "    plt.title('moving image')\n",
    "    plt.axis('off')\n",
    "    \n",
    "    plt.show()\n",
    "\n",
    "# Callback invoked by the IPython interact method for scrolling and modifying the alpha blending\n",
    "# of an image stack of two images that occupy the same physical space. \n",
    "def display_images_with_alpha(image_z, alpha, fixed, moving):\n",
    "    img = (1.0 - alpha)*fixed[:,:,image_z] + alpha*moving[:,:,image_z] \n",
    "    plt.imshow(sitk.GetArrayViewFromImage(img),cmap=plt.cm.Greys_r);\n",
    "    plt.axis('off')\n",
    "    plt.show()\n",
    "    \n",
    "# Callback invoked when the StartEvent happens, sets up our new data.\n",
    "def start_plot():\n",
    "    global metric_values, multires_iterations\n",
    "    \n",
    "    metric_values = []\n",
    "    multires_iterations = []\n",
    "\n",
    "# Callback invoked when the EndEvent happens, do cleanup of data and figure.\n",
    "def end_plot():\n",
    "    global metric_values, multires_iterations\n",
    "    \n",
    "    del metric_values\n",
    "    del multires_iterations\n",
    "    # Close figure, we don't want to get a duplicate of the plot latter on.\n",
    "    plt.close()\n",
    "\n",
    "# Callback invoked when the IterationEvent happens, update our data and display new figure.\n",
    "def plot_values(registration_method):\n",
    "    global metric_values, multires_iterations\n",
    "    \n",
    "    metric_values.append(registration_method.GetMetricValue())                                       \n",
    "    # Clear the output area (wait=True, to reduce flickering), and plot current data\n",
    "    clear_output(wait=True)\n",
    "    # Plot the similarity metric values\n",
    "    plt.plot(metric_values, 'r')\n",
    "    plt.plot(multires_iterations, [metric_values[index] for index in multires_iterations], 'b*')\n",
    "    plt.xlabel('Iteration Number',fontsize=12)\n",
    "    plt.ylabel('Metric Value',fontsize=12)\n",
    "    plt.show()\n",
    "    \n",
    "# Callback invoked when the sitkMultiResolutionIterationEvent happens, update the index into the \n",
    "# metric_values list. \n",
    "def update_multires_iterations():\n",
    "    global metric_values, multires_iterations\n",
    "    multires_iterations.append(len(metric_values))"
   ]
  },
  {
   "cell_type": "code",
   "execution_count": 3,
   "id": "3e78e32a",
   "metadata": {
    "ExecuteTime": {
     "end_time": "2023-07-15T16:21:57.169310107Z",
     "start_time": "2023-07-15T16:21:57.161487450Z"
    }
   },
   "outputs": [
    {
     "data": {
      "text/plain": [
       "((176, 256, 256), (176, 256, 256))"
      ]
     },
     "execution_count": 3,
     "metadata": {},
     "output_type": "execute_result"
    }
   ],
   "source": [
    "# get the output image\n",
    "images_1 = itk.imread(\"./Data/case6_gre1.nrrd\")\n",
    "\n",
    "images_1.shape\n",
    "\n",
    "images_2 = itk.imread(\"./Data/case6_gre2.nrrd\")\n",
    "\n",
    "images_1.shape, images_2.shape"
   ]
  },
  {
   "cell_type": "code",
   "execution_count": null,
   "id": "cd1a313e",
   "metadata": {
    "ExecuteTime": {
     "start_time": "2023-07-15T16:32:22.630605816Z"
    }
   },
   "outputs": [],
   "source": []
  },
  {
   "cell_type": "code",
   "execution_count": 4,
   "id": "e2f4e9e8",
   "metadata": {
    "is_executing": true
   },
   "outputs": [],
   "source": [
    "import SimpleITK as sitk\n",
    "import itkwidgets\n",
    "\n",
    "# Read the NRRD file\n",
    "mri_scan_1 = sitk.ReadImage(\"./Data/case6_gre1.nrrd\")\n",
    "mri_scan_2 = sitk.ReadImage(\"./Data/case6_gre2.nrrd\")\n"
   ]
  },
  {
   "cell_type": "code",
   "execution_count": 5,
   "id": "0621c337",
   "metadata": {
    "scrolled": false
   },
   "outputs": [
    {
     "data": {
      "application/vnd.jupyter.widget-view+json": {
       "model_id": "26d786188ced4bd9b9731db2562276ab",
       "version_major": 2,
       "version_minor": 0
      },
      "text/plain": [
       "Viewer(geometries=[], gradient_opacity=0.22, point_sets=[], rendered_image=<itk.itkImagePython.itkImageUS3; pr…"
      ]
     },
     "metadata": {},
     "output_type": "display_data"
    }
   ],
   "source": [
    "# View the first 3D MRI scan\n",
    "\n",
    "itkwidgets.view(mri_scan_1)"
   ]
  },
  {
   "cell_type": "code",
   "execution_count": 6,
   "id": "86245f7b",
   "metadata": {},
   "outputs": [
    {
     "data": {
      "application/vnd.jupyter.widget-view+json": {
       "model_id": "2dcc6a9fac9a42e5b5eead22aafb2795",
       "version_major": 2,
       "version_minor": 0
      },
      "text/plain": [
       "Viewer(geometries=[], gradient_opacity=0.22, point_sets=[], rendered_image=<itk.itkImagePython.itkImageUS3; pr…"
      ]
     },
     "metadata": {},
     "output_type": "display_data"
    }
   ],
   "source": [
    "# View the second 3D MRI scan\n",
    "\n",
    "itkwidgets.view(mri_scan_2)"
   ]
  },
  {
   "cell_type": "markdown",
   "id": "c6cbe963",
   "metadata": {},
   "source": [
    "We can denote that there is a translation in the x,y and z axis from comparing these 2 3D MRI scans. "
   ]
  },
  {
   "cell_type": "code",
   "execution_count": 7,
   "id": "43651a58",
   "metadata": {
    "scrolled": false
   },
   "outputs": [
    {
     "data": {
      "application/vnd.jupyter.widget-view+json": {
       "model_id": "2636e9718bea4604acb929c6a46f6f0b",
       "version_major": 2,
       "version_minor": 0
      },
      "text/plain": [
       "interactive(children=(IntSlider(value=87, description='fixed_image_z', max=175), IntSlider(value=87, descripti…"
      ]
     },
     "metadata": {},
     "output_type": "display_data"
    }
   ],
   "source": [
    "fixed_image =  sitk.ReadImage(\"./Data/case6_gre1.nrrd\", sitk.sitkFloat32)\n",
    "moving_image = sitk.ReadImage(\"./Data/case6_gre2.nrrd\", sitk.sitkFloat32) \n",
    "\n",
    "interact(display_images, fixed_image_z=(0,fixed_image.GetSize()[2]-1), moving_image_z=(0,moving_image.GetSize()[2]-1), fixed_npa = fixed(sitk.GetArrayViewFromImage(fixed_image)), moving_npa=fixed(sitk.GetArrayViewFromImage(moving_image)));\n",
    "\n"
   ]
  },
  {
   "cell_type": "markdown",
   "id": "6ef408f9",
   "metadata": {},
   "source": [
    "### Initial Allignment"
   ]
  },
  {
   "cell_type": "code",
   "execution_count": 8,
   "id": "0a7e7b57",
   "metadata": {},
   "outputs": [
    {
     "data": {
      "application/vnd.jupyter.widget-view+json": {
       "model_id": "a586a09643a84241a0b09ab700603fda",
       "version_major": 2,
       "version_minor": 0
      },
      "text/plain": [
       "interactive(children=(IntSlider(value=87, description='image_z', max=175), FloatSlider(value=0.5, description=…"
      ]
     },
     "metadata": {},
     "output_type": "display_data"
    }
   ],
   "source": [
    "initial_transform = sitk.CenteredTransformInitializer(fixed_image, \n",
    "                                                      moving_image, \n",
    "                                                      sitk.Euler3DTransform(), \n",
    "                                                      sitk.CenteredTransformInitializerFilter.GEOMETRY)\n",
    "\n",
    "moving_resampled = sitk.Resample(moving_image, fixed_image, initial_transform, sitk.sitkLinear, 0.0, moving_image.GetPixelID())\n",
    "\n",
    "interact(display_images_with_alpha, image_z=(0,fixed_image.GetSize()[2]-1), alpha=(0.0,1.0,0.05), fixed = fixed(fixed_image), moving=fixed(moving_resampled));\n"
   ]
  },
  {
   "cell_type": "code",
   "execution_count": 9,
   "id": "762cb3c1",
   "metadata": {},
   "outputs": [
    {
     "data": {
      "image/png": "[encoded data removed]",
      "text/plain": [
       "<Figure size 640x480 with 1 Axes>"
      ]
     },
     "metadata": {},
     "output_type": "display_data"
    }
   ],
   "source": [
    "registration_method = sitk.ImageRegistrationMethod()\n",
    "\n",
    "# Similarity metric settings.\n",
    "registration_method.SetMetricAsMattesMutualInformation(numberOfHistogramBins=50)\n",
    "registration_method.SetMetricSamplingStrategy(registration_method.RANDOM)\n",
    "registration_method.SetMetricSamplingPercentage(0.01)\n",
    "\n",
    "registration_method.SetInterpolator(sitk.sitkLinear)\n",
    "\n",
    "# Optimizer settings.\n",
    "registration_method.SetOptimizerAsGradientDescent(learningRate=1.0, numberOfIterations=100, convergenceMinimumValue=1e-6, convergenceWindowSize=10)\n",
    "registration_method.SetOptimizerScalesFromPhysicalShift()\n",
    "\n",
    "# Setup for the multi-resolution framework.            \n",
    "registration_method.SetShrinkFactorsPerLevel(shrinkFactors = [4,2,1])\n",
    "registration_method.SetSmoothingSigmasPerLevel(smoothingSigmas=[2,1,0])\n",
    "registration_method.SmoothingSigmasAreSpecifiedInPhysicalUnitsOn()\n",
    "\n",
    "# Don't optimize in-place, we would possibly like to run this cell multiple times.\n",
    "registration_method.SetInitialTransform(initial_transform, inPlace=False)\n",
    "\n",
    "# Connect all of the observers so that we can perform plotting during registration.\n",
    "registration_method.AddCommand(sitk.sitkStartEvent, start_plot)\n",
    "registration_method.AddCommand(sitk.sitkEndEvent, end_plot)\n",
    "registration_method.AddCommand(sitk.sitkMultiResolutionIterationEvent, update_multires_iterations) \n",
    "registration_method.AddCommand(sitk.sitkIterationEvent, lambda: plot_values(registration_method))\n",
    "\n",
    "final_transform = registration_method.Execute(sitk.Cast(fixed_image, sitk.sitkFloat32), \n",
    "                                               sitk.Cast(moving_image, sitk.sitkFloat32))"
   ]
  },
  {
   "cell_type": "code",
   "execution_count": 10,
   "id": "e3ff213c",
   "metadata": {},
   "outputs": [
    {
     "name": "stdout",
     "output_type": "stream",
     "text": [
      "Final metric value: -0.6888346578781571\n",
      "Optimizer's stopping condition, GradientDescentOptimizerv4Template: Convergence checker passed at iteration 10.\n"
     ]
    }
   ],
   "source": [
    "print('Final metric value: {0}'.format(registration_method.GetMetricValue()))\n",
    "print('Optimizer\\'s stopping condition, {0}'.format(registration_method.GetOptimizerStopConditionDescription()))\n"
   ]
  },
  {
   "cell_type": "code",
   "execution_count": 11,
   "id": "5d5107a6",
   "metadata": {},
   "outputs": [
    {
     "data": {
      "application/vnd.jupyter.widget-view+json": {
       "model_id": "5beec6b7d9a24cc7b6e2a1dda31d3045",
       "version_major": 2,
       "version_minor": 0
      },
      "text/plain": [
       "interactive(children=(IntSlider(value=87, description='image_z', max=175), FloatSlider(value=0.5, description=…"
      ]
     },
     "metadata": {},
     "output_type": "display_data"
    }
   ],
   "source": [
    "moving_resampled = sitk.Resample(moving_image, fixed_image, final_transform, sitk.sitkLinear, 0.0, moving_image.GetPixelID())\n",
    "\n",
    "interact(display_images_with_alpha, image_z=(0,fixed_image.GetSize()[2] - 1), alpha=(0.0,1.0,0.05), fixed = fixed(fixed_image), moving=fixed(moving_resampled));"
   ]
  },
  {
   "cell_type": "code",
   "execution_count": 12,
   "id": "d32bc5d9",
   "metadata": {},
   "outputs": [
    {
     "data": {
      "application/vnd.jupyter.widget-view+json": {
       "model_id": "93b1bc1b291a4d9ab3db9c6333539bec",
       "version_major": 2,
       "version_minor": 0
      },
      "text/plain": [
       "Viewer(geometries=[], gradient_opacity=0.22, point_sets=[], rendered_image=<itk.itkImagePython.itkImageF3; pro…"
      ]
     },
     "metadata": {},
     "output_type": "display_data"
    }
   ],
   "source": [
    "itkwidgets.view(moving_resampled)"
   ]
  },
  {
   "cell_type": "code",
   "execution_count": 13,
   "id": "b9d6c04e",
   "metadata": {},
   "outputs": [
    {
     "data": {
      "application/vnd.jupyter.widget-view+json": {
       "model_id": "d0e642f643b04f48bfd433fe2e3cef26",
       "version_major": 2,
       "version_minor": 0
      },
      "text/plain": [
       "Viewer(geometries=[], gradient_opacity=0.22, point_sets=[], rendered_image=<itk.itkImagePython.itkImageUS3; pr…"
      ]
     },
     "metadata": {},
     "output_type": "display_data"
    }
   ],
   "source": [
    "itkwidgets.view(mri_scan_1)"
   ]
  },
  {
   "cell_type": "code",
   "execution_count": 14,
   "id": "91ea57d4",
   "metadata": {},
   "outputs": [],
   "source": [
    "os.makedirs(OUTPUT_DIR, exist_ok=True)  # Create the directory if it doesn't exist\n",
    "# Save the resampled image\n",
    "output_path = os.path.join(OUTPUT_DIR, 'output.nrrd')\n",
    "sitk.WriteImage(moving_resampled, output_path)"
   ]
  },
  {
   "cell_type": "code",
   "execution_count": 15,
   "id": "8ef6d1ee",
   "metadata": {
    "scrolled": true
   },
   "outputs": [
    {
     "name": "stdout",
     "output_type": "stream",
     "text": [
      "<class 'SimpleITK.SimpleITK.Image'>\n"
     ]
    }
   ],
   "source": [
    "print(type(moving_resampled))"
   ]
  },
  {
   "cell_type": "code",
   "execution_count": null,
   "id": "57c497a5",
   "metadata": {},
   "outputs": [],
   "source": [
    "images_2_resampled = images_2_resampled.astype(float)\n",
    "images_2_resampled_itk = itk.image_from_array(moving_resampled)\n",
    "\n",
    "\n",
    "# Preprocess the images\n",
    "smoothing = itk.CurvatureFlowImageFilter.New(Input=images_2_resampled_itk)\n",
    "smoothing.SetNumberOfIterations(5)\n",
    "smoothing.SetTimeStep(0.125)\n",
    "smoothing.Update()\n",
    "\n",
    "smoothed_image = smoothing.GetOutput()\n",
    "smoothed_image = smoothing.GetOutput()\n",
    "print(type(smoothed_image))\n"
   ]
  },
  {
   "cell_type": "code",
   "execution_count": 18,
   "id": "32fdbe45",
   "metadata": {},
   "outputs": [
    {
     "ename": "AttributeError",
     "evalue": "'ConnectedThresholdImageFilter' object has no attribute 'SetSeed'",
     "output_type": "error",
     "traceback": [
      "\u001b[0;31m---------------------------------------------------------------------------\u001b[0m",
      "\u001b[0;31mAttributeError\u001b[0m                            Traceback (most recent call last)",
      "Cell \u001b[0;32mIn[18], line 5\u001b[0m\n\u001b[1;32m      1\u001b[0m \u001b[38;5;66;03m#SITK\u001b[39;00m\n\u001b[1;32m      2\u001b[0m \n\u001b[1;32m      3\u001b[0m \u001b[38;5;66;03m# assuming that 'image' is a SimpleITK.Image object\u001b[39;00m\n\u001b[1;32m      4\u001b[0m connectedThreshold \u001b[38;5;241m=\u001b[39m sitk\u001b[38;5;241m.\u001b[39mConnectedThresholdImageFilter()\n\u001b[0;32m----> 5\u001b[0m \u001b[43mconnectedThreshold\u001b[49m\u001b[38;5;241;43m.\u001b[39;49m\u001b[43mSetSeed\u001b[49m([\u001b[38;5;241m44\u001b[39m,\u001b[38;5;241m35\u001b[39m,\u001b[38;5;241m50\u001b[39m])\n\u001b[1;32m      6\u001b[0m connectedThreshold\u001b[38;5;241m.\u001b[39mSetLower(\u001b[38;5;241m400\u001b[39m)\n\u001b[1;32m      7\u001b[0m connectedThreshold\u001b[38;5;241m.\u001b[39mSetUpper(\u001b[38;5;241m775\u001b[39m)\n",
      "\u001b[0;31mAttributeError\u001b[0m: 'ConnectedThresholdImageFilter' object has no attribute 'SetSeed'"
     ]
    }
   ],
   "source": [
    "#SITK\n",
    "\n",
    "# assuming that 'image' is a SimpleITK.Image object\n",
    "connectedThreshold = sitk.ConnectedThresholdImageFilter()\n",
    "connectedThreshold.SetSeed([44,35,50])\n",
    "connectedThreshold.SetLower(400)\n",
    "connectedThreshold.SetUpper(775)\n",
    "connectedThreshold.SetReplaceValue(255)\n",
    "segmented_image = connectedThreshold.Execute(image)\n"
   ]
  },
  {
   "cell_type": "code",
   "execution_count": 17,
   "id": "45c9ea3c",
   "metadata": {},
   "outputs": [
    {
     "ename": "TypeError",
     "evalue": "Expecting argument of type itkImageF3 or itkImageSourceIF3.\nAdditional information:\nWrong number or type of arguments for overloaded function 'itkImageToImageFilterIF3IF3_SetInput'.\n  Possible C/C++ prototypes are:\n    itkImageToImageFilterIF3IF3::SetInput(itkImageF3 const *)\n    itkImageToImageFilterIF3IF3::SetInput(unsigned int,itkImageF3 const *)\n",
     "output_type": "error",
     "traceback": [
      "\u001b[0;31m---------------------------------------------------------------------------\u001b[0m",
      "\u001b[0;31mTypeError\u001b[0m                                 Traceback (most recent call last)",
      "Cell \u001b[0;32mIn[17], line 11\u001b[0m\n\u001b[1;32m      7\u001b[0m upper_threshold \u001b[38;5;241m=\u001b[39m \u001b[38;5;241m775\u001b[39m\n\u001b[1;32m      9\u001b[0m \u001b[38;5;66;03m#seed (44,35,50)\u001b[39;00m\n\u001b[0;32m---> 11\u001b[0m \u001b[43mconnectedThreshold\u001b[49m\u001b[38;5;241;43m.\u001b[39;49m\u001b[43mSetInput\u001b[49m\u001b[43m(\u001b[49m\u001b[43mmoving_resampled\u001b[49m\u001b[43m)\u001b[49m\n\u001b[1;32m     12\u001b[0m connectedThreshold\u001b[38;5;241m.\u001b[39mSetLower(lower_threshold)\n\u001b[1;32m     13\u001b[0m connectedThreshold\u001b[38;5;241m.\u001b[39mSetUpper(upper_threshold)\n",
      "\u001b[0;31mTypeError\u001b[0m: Expecting argument of type itkImageF3 or itkImageSourceIF3.\nAdditional information:\nWrong number or type of arguments for overloaded function 'itkImageToImageFilterIF3IF3_SetInput'.\n  Possible C/C++ prototypes are:\n    itkImageToImageFilterIF3IF3::SetInput(itkImageF3 const *)\n    itkImageToImageFilterIF3IF3::SetInput(unsigned int,itkImageF3 const *)\n"
     ]
    }
   ],
   "source": [
    "# Perform region growing\n",
    "ConnectedFilterType = itk.ConnectedThresholdImageFilter[itk.Image[itk.F,3], itk.Image[itk.F,3]]\n",
    "connectedThreshold = ConnectedFilterType.New()\n",
    "\n",
    "\n",
    "lower_threshold = 400\n",
    "upper_threshold = 775\n",
    "\n",
    "#seed (44,35,50)\n",
    "\n",
    "connectedThreshold.SetInput(moving_resampled)\n",
    "connectedThreshold.SetLower(lower_threshold)\n",
    "connectedThreshold.SetUpper(upper_threshold)\n",
    "connectedThreshold.SetReplaceValue(255)"
   ]
  },
  {
   "cell_type": "code",
   "execution_count": null,
   "id": "a9337c69",
   "metadata": {},
   "outputs": [],
   "source": []
  }
 ],
 "metadata": {
  "kernelspec": {
   "display_name": "Python 3 (ipykernel)",
   "language": "python",
   "name": "python3"
  },
  "language_info": {
   "codemirror_mode": {
    "name": "ipython",
    "version": 3
   },
   "file_extension": ".py",
   "mimetype": "text/x-python",
   "name": "python",
   "nbconvert_exporter": "python",
   "pygments_lexer": "ipython3",
   "version": "3.10.6"
  }
 },
 "nbformat": 4,
 "nbformat_minor": 5
}
