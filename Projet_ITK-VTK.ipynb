{
 "cells": [
  {
   "cell_type": "markdown",
   "id": "c6dae7ae",
   "metadata": {},
   "source": [
    "# Projet - ITK/VTK - Etude longitudinale de l’évolution d’une tumeur"
   ]
  },
  {
   "cell_type": "code",
   "execution_count": 1,
   "id": "c311b3fa",
   "metadata": {},
   "outputs": [],
   "source": [
    "import numpy as np\n",
    "import itk\n",
    "import matplotlib.pyplot as plt\n",
    "print(itk.Version.GetITKVersion())"
   ]
  },
  {
   "cell_type": "code",
   "execution_count": 2,
   "id": "3e78e32a",
   "metadata": {},
   "outputs": [],
   "source": [
    "# get the output image\n",
    "PixelType = itk.F\n",
    "\n",
    "images_1 = itk.imread(\"./Data/case6_gre1.nrrd\", PixelType)\n",
    "images_2 = itk.imread(\"./Data/case6_gre2.nrrd\", PixelType)\n",
    "\n",
    "images_1.shape, images_2.shape"
   ]
  },
  {
   "cell_type": "code",
   "execution_count": 3,
   "id": "0a7e7b57",
   "metadata": {},
   "outputs": [],
   "source": [
    "def print_5_slices(images, index_slice, dimension) :\n",
    "    fig, axs = plt.subplots(1, 5, figsize=(18, 8))\n",
    "    \n",
    "    if dimension == 1 :\n",
    "        if index_slice > images.shape[0] :\n",
    "            raise ValueError(\"index_slice is higher than the number of slices\")\n",
    "        \n",
    "        limit = index_slice\n",
    "        i = 0\n",
    "        while limit < images.shape[0] and i < 5 :\n",
    "            limit += 1\n",
    "            i += 1\n",
    "        \n",
    "        j = 0\n",
    "        for i in range(index_slice, limit) :\n",
    "            axs[j].imshow(images[i, :, :], cmap='gray')\n",
    "            axs[j].axis('off')\n",
    "            j += 1\n",
    "    \n",
    "    elif dimension >= 2 :\n",
    "        if index_slice > images.shape[1] :\n",
    "            raise ValueError(\"index_slice is higher than the number of slices\")\n",
    "        \n",
    "        limit = index_slice\n",
    "        i = 0\n",
    "        while limit < images.shape[0] and i < 5 :\n",
    "            limit += 1\n",
    "            i += 1\n",
    "\n",
    "        j = 0\n",
    "        if dimension == 2 :\n",
    "            for i in range(index_slice, limit) :\n",
    "                axs[j].imshow(images[:, i, :], cmap='gray')\n",
    "                axs[j].axis('off')\n",
    "                j += 1\n",
    "        else :\n",
    "            for i in range(index_slice, limit) :\n",
    "                axs[j].imshow(images[:, :, i], cmap='gray')\n",
    "                axs[j].axis('off')\n",
    "                j += 1\n",
    "                \n",
    "    plt.subplots_adjust(wspace=0.05)\n",
    "\n",
    "print_5_slices(images_1, 100, 1)"
   ]
  },
  {
   "cell_type": "code",
   "execution_count": 4,
   "id": "762cb3c1",
   "metadata": {},
   "outputs": [],
   "source": [
    "print_5_slices(images_1, 100, 2)"
   ]
  },
  {
   "cell_type": "code",
   "execution_count": 5,
   "id": "00131c94",
   "metadata": {},
   "outputs": [],
   "source": [
    "print_5_slices(images_1, 150, 3)"
   ]
  },
  {
   "cell_type": "markdown",
   "id": "777fb480",
   "metadata": {},
   "source": [
    "## Etape 1 - Recalage"
   ]
  },
  {
   "cell_type": "code",
   "execution_count": 6,
   "id": "de3a22c2",
   "metadata": {},
   "outputs": [],
   "source": [
    "fig, axes = plt.subplots(3, 2, figsize=(8, 10))\n",
    "axes[0, 0].imshow(images_1[100, :, :], cmap='gray')\n",
    "axes[0, 1].imshow(images_2[100, :, :], cmap='gray')\n",
    "axes[1, 0].imshow(images_1[:, 100, :], cmap='gray')\n",
    "axes[1, 1].imshow(images_2[:, 100, :], cmap='gray')\n",
    "axes[2, 0].imshow(images_1[:, :, 150], cmap='gray')\n",
    "axes[2, 1].imshow(images_2[:, :, 150], cmap='gray')"
   ]
  },
  {
   "cell_type": "markdown",
   "id": "1aa637e8",
   "metadata": {},
   "source": [
    "On peut remarquer qu'il y a une différence marquée d'aligement latéral entre les deux images. Nous effectuerons donc un recalage par translation pour aligner nos images."
   ]
  },
  {
   "cell_type": "code",
   "execution_count": null,
   "id": "34625545",
   "metadata": {},
   "outputs": [],
   "source": [
    "dimension = 3\n",
    "FixedImageType = type(images_1)\n",
    "MovingImageType = type(images_2)\n",
    "\n",
    "TransformType = itk.TranslationTransform[itk.D, dimension]\n",
    "initialTransform = TransformType.New()\n",
    "\n",
    "optimizer = itk.RegularStepGradientDescentOptimizerv4.New()\n",
    "\n",
    "optimizer.SetLearningRate(1)\n",
    "optimizer.SetMinimumStepLength(1e-6)\n",
    "optimizer.SetNumberOfIterations(100)\n",
    "\n",
    "metric = itk.MeanSquaresImageToImageMetricv4[FixedImageType, MovingImageType].New()\n",
    "fixed_interpolation = itk.LinearInterpolateImageFunction[FixedImageType, itk.D].New()\n",
    "metric.SetFixedInterpolator(fixed_interpolation)\n",
    "\n",
    "registration = itk.ImageRegistrationMethodv4[FixedImageType, MovingImageType].New(FixedImage=images_1, MovingImage=images_2, Metric=metric,\n",
    "                                                                                    Optimizer=optimizer, InitialTransform=initialTransform)\n",
    "\n",
    "moving_initial_transform = TransformType.New()\n",
    "initial_parameters = moving_initial_transform.GetParameters()\n",
    "initial_parameters[0] = 0\n",
    "initial_parameters[1] = 0\n",
    "moving_initial_transform.SetParameters(initial_parameters)\n",
    "registration.SetMovingInitialTransform(moving_initial_transform)\n",
    "\n",
    "identity_transform = TransformType.New()\n",
    "identity_transform.SetIdentity()\n",
    "registration.SetFixedInitialTransform(identity_transform)\n",
    "\n",
    "registration.SetNumberOfLevels(1)\n",
    "\n",
    "registration.Update()\n",
    "\n",
    "transform = registration.GetTransform()\n",
    "final_parameters = transform.GetParameters()\n",
    "translation_along_x = final_parameters.GetElement(0)\n",
    "translation_along_y = final_parameters.GetElement(1)\n",
    "translation_along_z = final_parameters.GetElement(2)\n",
    "\n",
    "number_of_iterations = optimizer.GetCurrentIteration()\n",
    "\n",
    "best_value = optimizer.GetValue()\n",
    "\n",
    "print(\"Result = \")\n",
    "print(\" Translation X = \" + str(translation_along_x))\n",
    "print(\" Translation Y = \" + str(translation_along_y))\n",
    "print(\" Translation Z = \" + str(translation_along_z))\n",
    "print(\" Iterations    = \" + str(number_of_iterations))\n",
    "print(\" Metric value  = \" + str(best_value))"
   ]
  },
  {
   "cell_type": "code",
   "execution_count": null,
   "id": "b62ede5f",
   "metadata": {},
   "outputs": [],
   "source": [
    "resampler = itk.ResampleImageFilter.New(Input=images_2, Transform=transform, UseReferenceImage=True,\n",
    "                                        ReferenceImage=images_1)\n",
    "resampler.SetDefaultPixelValue(0)\n",
    "\n",
    "OutputImageType = itk.Image[PixelType, dimension]\n",
    "images_2_resampled_casted = itk.CastImageFilter[FixedImageType, OutputImageType].New(resampler)\n",
    "\n",
    "images_2_resampled = itk.array_from_image(images_2_resampled_casted)"
   ]
  },
  {
   "cell_type": "code",
   "execution_count": null,
   "id": "47a45ac4",
   "metadata": {},
   "outputs": [],
   "source": [
    "print_5_slices(images_2_resampled, 100, 1)"
   ]
  },
  {
   "cell_type": "code",
   "execution_count": null,
   "id": "bb986082",
   "metadata": {},
   "outputs": [],
   "source": [
    "print_5_slices(images_2_resampled, 100, 2)"
   ]
  },
  {
   "cell_type": "code",
   "execution_count": null,
   "id": "bf494405",
   "metadata": {},
   "outputs": [],
   "source": [
    "print_5_slices(images_2_resampled, 150, 3)"
   ]
  },
  {
   "cell_type": "code",
   "execution_count": null,
   "id": "fd24e619",
   "metadata": {},
   "outputs": [],
   "source": [
    "fig, axes = plt.subplots(3, 2, figsize=(8, 10))\n",
    "axes[0, 0].imshow(images_1[100, :, :], cmap='gray')\n",
    "axes[0, 1].imshow(images_2_resampled[100, :, :], cmap='gray')\n",
    "axes[1, 0].imshow(images_1[:, 100, :], cmap='gray')\n",
    "axes[1, 1].imshow(images_2_resampled[:, 100, :], cmap='gray')\n",
    "axes[2, 0].imshow(images_1[:, :, 150], cmap='gray')\n",
    "axes[2, 1].imshow(images_2_resampled[:, :, 150], cmap='gray')"
   ]
  },
  {
   "cell_type": "markdown",
   "id": "889a597e",
   "metadata": {},
   "source": [
    "## Etape 2 - Ségmentation"
   ]
  },
  {
   "cell_type": "markdown",
   "id": "f9d212c9",
   "metadata": {},
   "source": [
    "400 - 775\n",
    "position : 154 -177 85\n",
    "index : 44 35 50"
   ]
  },
  {
   "cell_type": "code",
   "execution_count": null,
   "id": "dab272f4",
   "metadata": {},
   "outputs": [],
   "source": [
    "dimension = 3\n",
    "ImageType = type(images_1)\n",
    "\n",
    "# Instantiate the filter\n",
    "connected_threshold = itk.ConnectedThresholdImageFilter[ImageType, ImageType].New(images_1)\n",
    "\n",
    "# Configure filter from the command line arguments\n",
    "connected_threshold.SetReplaceValue(1)\n",
    "connected_threshold.SetLower(0)\n",
    "connected_threshold.SetUpper(500)\n",
    "\n",
    "connected_threshold.SetSeed((44, 45, 50))\n",
    "\n",
    "# Execute pipeline\n",
    "connected_threshold.Update()\n",
    "\n",
    "in_type = itk.output(connected_threshold)\n",
    "output_type = itk.Image[itk.UC, dimension]\n",
    "images_1_segmented_rescaled = itk.RescaleIntensityImageFilter[in_type, output_type].New(connected_threshold)\n",
    "\n",
    "images_1_segmented = itk.array_from_image(images_1_segmented_rescaled)\n",
    "\n",
    "fig, axes = plt.subplots(3, 2, figsize=(8, 10))\n",
    "axes[0, 0].imshow(images_1[44, :, :], cmap='gray')\n",
    "axes[0, 1].imshow(images_1_segmented[44, :, :], cmap='gray')\n",
    "axes[1, 0].imshow(images_1[:, 35, :], cmap='gray')\n",
    "axes[1, 1].imshow(images_1_segmented[:, 35, :], cmap='gray')\n",
    "axes[2, 0].imshow(images_1[:, :, 50], cmap='gray')\n",
    "axes[2, 1].imshow(images_1_segmented[:, :, 50], cmap='gray')"
   ]
  },
  {
   "cell_type": "code",
   "execution_count": null,
   "id": "69bde061",
   "metadata": {},
   "outputs": [],
   "source": []
  }
 ],
 "metadata": {
  "kernelspec": {
   "display_name": "Python 3 (ipykernel)",
   "language": "python",
   "name": "python3"
  },
  "language_info": {
   "codemirror_mode": {
    "name": "ipython",
    "version": 3
   },
   "file_extension": ".py",
   "mimetype": "text/x-python",
   "name": "python",
   "nbconvert_exporter": "python",
   "pygments_lexer": "ipython3",
   "version": "3.8.10"
  }
 },
 "nbformat": 4,
 "nbformat_minor": 5
}
