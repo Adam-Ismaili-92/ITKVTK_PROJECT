{
 "cells": [
  {
   "cell_type": "markdown",
   "id": "c6dae7ae",
   "metadata": {},
   "source": [
    "# Projet - ITK/VTK - Etude longitudinale de l’évolution d’une tumeur"
   ]
  },
  {
   "cell_type": "code",
   "execution_count": null,
   "id": "c311b3fa",
   "metadata": {},
   "outputs": [],
   "source": [
    "import numpy as np\n",
    "import itk\n",
    "%matplotlib inline\n",
    "import matplotlib.pyplot as plt\n",
    "import itkwidgets\n",
    "from ipywidgets import interact, fixed\n",
    "from IPython.display import clear_output\n",
    "print(itk.Version.GetITKVersion())"
   ]
  },
  {
   "cell_type": "markdown",
   "id": "eae86c9e",
   "metadata": {},
   "source": [
    "## Fonctions utilitaires"
   ]
  },
  {
   "cell_type": "code",
   "execution_count": null,
   "id": "653e8639",
   "metadata": {},
   "outputs": [],
   "source": [
    "def visualize_image(image):\n",
    "    # Convert the input image to a numpy array\n",
    "    image_array = itk.array_view_from_image(image)\n",
    "\n",
    "    # Visualize the image using itkwidgets\n",
    "    viewer = itkwidgets.view(image_array)\n",
    "    return viewer"
   ]
  },
  {
   "cell_type": "code",
   "execution_count": null,
   "id": "ff13f89d",
   "metadata": {},
   "outputs": [],
   "source": [
    "# Callback invoked by the interact IPython method for scrolling through the image stacks of\n",
    "# the two images (moving and fixed).\n",
    "def display_images(fixed_image_z, moving_image_z, fixed_image, moving_image):\n",
    "    # Create a figure with two subplots and the specified size.\n",
    "    plt.subplots(1, 2, figsize=(10, 8))\n",
    "    \n",
    "    # Draw the fixed image in the first subplot.\n",
    "    plt.subplot(1, 2, 1)\n",
    "    plt.imshow(fixed_image[fixed_image_z, :, :], cmap=plt.cm.Greys_r)\n",
    "    plt.title('fixed image')\n",
    "    plt.axis('off')\n",
    "    \n",
    "    # Draw the moving image in the second subplot.\n",
    "    plt.subplot(1, 2, 2)\n",
    "    plt.imshow(moving_image[moving_image_z, :, :], cmap=plt.cm.Greys_r)\n",
    "    plt.title('moving image')\n",
    "    plt.axis('off')\n",
    "    \n",
    "    plt.show()"
   ]
  },
  {
   "cell_type": "code",
   "execution_count": null,
   "id": "c1497180",
   "metadata": {},
   "outputs": [],
   "source": [
    "def print_5_slices(images, index_slice, dimension) :\n",
    "    fig, axs = plt.subplots(1, 5, figsize=(18, 8))\n",
    "    \n",
    "    if dimension == 1 :\n",
    "        if index_slice > images.shape[0] :\n",
    "            raise ValueError(\"index_slice is higher than the number of slices\")\n",
    "        \n",
    "        limit = index_slice\n",
    "        i = 0\n",
    "        while limit < images.shape[0] and i < 5 :\n",
    "            limit += 1\n",
    "            i += 1\n",
    "        \n",
    "        j = 0\n",
    "        for i in range(index_slice, limit) :\n",
    "            axs[j].imshow(images[i, :, :], cmap='gray')\n",
    "            axs[j].axis('off')\n",
    "            j += 1\n",
    "    \n",
    "    elif dimension >= 2 :\n",
    "        if index_slice > images.shape[1] :\n",
    "            raise ValueError(\"index_slice is higher than the number of slices\")\n",
    "        \n",
    "        limit = index_slice\n",
    "        i = 0\n",
    "        while limit < images.shape[0] and i < 5 :\n",
    "            limit += 1\n",
    "            i += 1\n",
    "\n",
    "        j = 0\n",
    "        if dimension == 2 :\n",
    "            for i in range(index_slice, limit) :\n",
    "                axs[j].imshow(images[:, i, :], cmap='gray')\n",
    "                axs[j].axis('off')\n",
    "                j += 1\n",
    "        else :\n",
    "            for i in range(index_slice, limit) :\n",
    "                axs[j].imshow(images[:, :, i], cmap='gray')\n",
    "                axs[j].axis('off')\n",
    "                j += 1\n",
    "                \n",
    "    plt.subplots_adjust(wspace=0.05)\n"
   ]
  },
  {
   "cell_type": "code",
   "execution_count": null,
   "id": "3e78e32a",
   "metadata": {},
   "outputs": [],
   "source": [
    "# get the output image\n",
    "PixelType = itk.F\n",
    "\n",
    "images_1 = itk.imread(\"./Data/case6_gre1.nrrd\", PixelType)\n",
    "images_2 = itk.imread(\"./Data/case6_gre2.nrrd\", PixelType)\n",
    "\n",
    "print(type(images_1), type(images_2))\n",
    "images_1.shape, images_2.shape"
   ]
  },
  {
   "cell_type": "code",
   "execution_count": null,
   "id": "f6fe6b53",
   "metadata": {},
   "outputs": [],
   "source": [
    "visualize_image(images_1)"
   ]
  },
  {
   "cell_type": "code",
   "execution_count": null,
   "id": "1d9a228f",
   "metadata": {},
   "outputs": [],
   "source": [
    "visualize_image(images_2)"
   ]
  },
  {
   "cell_type": "code",
   "execution_count": null,
   "id": "fd08e4a6",
   "metadata": {
    "scrolled": true
   },
   "outputs": [],
   "source": [
    "print_5_slices(images_1, 100, 1)"
   ]
  },
  {
   "cell_type": "code",
   "execution_count": null,
   "id": "762cb3c1",
   "metadata": {},
   "outputs": [],
   "source": [
    "print_5_slices(images_1, 100, 2)"
   ]
  },
  {
   "cell_type": "code",
   "execution_count": null,
   "id": "00131c94",
   "metadata": {},
   "outputs": [],
   "source": [
    "print_5_slices(images_1, 150, 3)"
   ]
  },
  {
   "cell_type": "markdown",
   "id": "777fb480",
   "metadata": {},
   "source": [
    "## Etape 1 - Recalage"
   ]
  },
  {
   "cell_type": "code",
   "execution_count": null,
   "id": "403f12e8",
   "metadata": {
    "scrolled": true
   },
   "outputs": [],
   "source": [
    "interact(display_images, fixed_image_z=(1, images_1.shape[0]-1), moving_image_z=(1, images_2.shape[0]-1),\n",
    "         fixed_image=fixed(images_1), moving_image=fixed(images_2))"
   ]
  },
  {
   "cell_type": "markdown",
   "id": "c3458d32",
   "metadata": {},
   "source": [
    "Voici un widget interactif qui vous permet de visualiser les images fixes et mobiles à différentes coupes dans l'axe y."
   ]
  },
  {
   "cell_type": "code",
   "execution_count": null,
   "id": "de3a22c2",
   "metadata": {},
   "outputs": [],
   "source": [
    "fig, axes = plt.subplots(3, 2, figsize=(8, 10))\n",
    "axes[0, 0].imshow(images_1[100, :, :], cmap='gray')\n",
    "axes[0, 1].imshow(images_2[100, :, :], cmap='gray')\n",
    "axes[1, 0].imshow(images_1[:, 100, :], cmap='gray')\n",
    "axes[1, 1].imshow(images_2[:, 100, :], cmap='gray')\n",
    "axes[2, 0].imshow(images_1[:, :, 150], cmap='gray')\n",
    "axes[2, 1].imshow(images_2[:, :, 150], cmap='gray')"
   ]
  },
  {
   "cell_type": "markdown",
   "id": "1aa637e8",
   "metadata": {},
   "source": [
    "On peut remarquer qu'il y a une différence marquée d'aligement latéral entre les deux images. Nous effectuerons donc un recalage par translation pour aligner nos images."
   ]
  },
  {
   "cell_type": "code",
   "execution_count": null,
   "id": "34625545",
   "metadata": {},
   "outputs": [],
   "source": [
    "dimension = 3\n",
    "FixedImageType = type(images_1)\n",
    "MovingImageType = type(images_2)\n",
    "\n",
    "TransformType = itk.TranslationTransform[itk.D, dimension]\n",
    "initialTransform = TransformType.New()\n",
    "\n",
    "optimizer = itk.RegularStepGradientDescentOptimizerv4.New()\n",
    "\n",
    "optimizer.SetLearningRate(1)\n",
    "optimizer.SetMinimumStepLength(1e-6)\n",
    "optimizer.SetNumberOfIterations(100)\n",
    "\n",
    "metric = itk.MeanSquaresImageToImageMetricv4[FixedImageType, MovingImageType].New()\n",
    "fixed_interpolation = itk.LinearInterpolateImageFunction[FixedImageType, itk.D].New()\n",
    "metric.SetFixedInterpolator(fixed_interpolation)\n",
    "\n",
    "registration = itk.ImageRegistrationMethodv4[FixedImageType, MovingImageType].New(FixedImage=images_1, MovingImage=images_2, Metric=metric,\n",
    "                                                                                    Optimizer=optimizer, InitialTransform=initialTransform)\n",
    "\n",
    "moving_initial_transform = TransformType.New()\n",
    "initial_parameters = moving_initial_transform.GetParameters()\n",
    "initial_parameters[0] = 0\n",
    "initial_parameters[1] = 0\n",
    "moving_initial_transform.SetParameters(initial_parameters)\n",
    "registration.SetMovingInitialTransform(moving_initial_transform)\n",
    "\n",
    "identity_transform = TransformType.New()\n",
    "identity_transform.SetIdentity()\n",
    "registration.SetFixedInitialTransform(identity_transform)\n",
    "\n",
    "registration.SetNumberOfLevels(1)\n",
    "\n",
    "registration.Update()\n",
    "\n",
    "transform = registration.GetTransform()\n",
    "final_parameters = transform.GetParameters()\n",
    "translation_along_x = final_parameters.GetElement(0)\n",
    "translation_along_y = final_parameters.GetElement(1)\n",
    "translation_along_z = final_parameters.GetElement(2)\n",
    "\n",
    "number_of_iterations = optimizer.GetCurrentIteration()\n",
    "\n",
    "best_value = optimizer.GetValue()\n",
    "\n",
    "print(\"Result = \")\n",
    "print(\" Translation X = \" + str(translation_along_x))\n",
    "print(\" Translation Y = \" + str(translation_along_y))\n",
    "print(\" Translation Z = \" + str(translation_along_z))\n",
    "print(\" Iterations    = \" + str(number_of_iterations))\n",
    "print(\" Metric value  = \" + str(best_value))"
   ]
  },
  {
   "cell_type": "code",
   "execution_count": null,
   "id": "b62ede5f",
   "metadata": {},
   "outputs": [],
   "source": [
    "resampler = itk.ResampleImageFilter.New(Input=images_2, Transform=transform, UseReferenceImage=True,\n",
    "                                        ReferenceImage=images_1)\n",
    "resampler.SetDefaultPixelValue(0)\n",
    "\n",
    "OutputImageType = itk.Image[PixelType, dimension]\n",
    "images_2_resampled_casted = itk.CastImageFilter[FixedImageType, OutputImageType].New(resampler)\n",
    "\n",
    "images_2_resampled = itk.array_from_image(images_2_resampled_casted)"
   ]
  },
  {
   "cell_type": "code",
   "execution_count": null,
   "id": "47a45ac4",
   "metadata": {},
   "outputs": [],
   "source": [
    "print_5_slices(images_2_resampled, 100, 1)"
   ]
  },
  {
   "cell_type": "code",
   "execution_count": null,
   "id": "bb986082",
   "metadata": {},
   "outputs": [],
   "source": [
    "print_5_slices(images_2_resampled, 100, 2)"
   ]
  },
  {
   "cell_type": "code",
   "execution_count": null,
   "id": "bf494405",
   "metadata": {},
   "outputs": [],
   "source": [
    "print_5_slices(images_2_resampled, 150, 3)"
   ]
  },
  {
   "cell_type": "code",
   "execution_count": null,
   "id": "fd24e619",
   "metadata": {},
   "outputs": [],
   "source": [
    "fig, axes = plt.subplots(3, 2, figsize=(8, 10))\n",
    "axes[0, 0].imshow(images_1[100, :, :], cmap='gray')\n",
    "axes[0, 1].imshow(images_2_resampled[100, :, :], cmap='gray')\n",
    "axes[1, 0].imshow(images_1[:, 100, :], cmap='gray')\n",
    "axes[1, 1].imshow(images_2_resampled[:, 100, :], cmap='gray')\n",
    "axes[2, 0].imshow(images_1[:, :, 150], cmap='gray')\n",
    "axes[2, 1].imshow(images_2_resampled[:, :, 150], cmap='gray')"
   ]
  },
  {
   "cell_type": "markdown",
   "id": "1b5acdda",
   "metadata": {},
   "source": [
    "## Etape 2 - Segmentation"
   ]
  },
  {
   "cell_type": "markdown",
   "id": "cc203a91",
   "metadata": {},
   "source": [
    "Après analyse visuelle, nous avons remarqué que l'intensité des valeurs de la tumeur variait de 500 à 800 pour l'image 1 et pour l'image 2.\n",
    "\n",
    "Nous avons ainsi selectionné deux points appartenant à la tumeur pour l'image 1 et pour l'image 2, et avons effectué notre segmentation de tumeur sur chacune des images 3D."
   ]
  },
  {
   "cell_type": "code",
   "execution_count": null,
   "id": "44014349",
   "metadata": {},
   "outputs": [],
   "source": [
    "images_2_resampled = images_2_resampled.astype(float)\n",
    "images_2_resampled = itk.image_from_array(images_2_resampled)"
   ]
  },
  {
   "cell_type": "code",
   "execution_count": null,
   "id": "09d4354b",
   "metadata": {},
   "outputs": [],
   "source": [
    "# Cast the images in the same type\n",
    "cast_filter = itk.CastImageFilter[images_2_resampled, itk.Image[itk.F, 3]].New()\n",
    "cast_filter.SetInput(images_2_resampled)\n",
    "cast_filter.Update()\n",
    "\n",
    "images_2_resampled = cast_filter.GetOutput()"
   ]
  },
  {
   "cell_type": "code",
   "execution_count": null,
   "id": "8752f297",
   "metadata": {},
   "outputs": [],
   "source": [
    "# Smooth the images before segmenting them\n",
    "smoothing = itk.CurvatureFlowImageFilter.New(Input=images_1)\n",
    "smoothing.SetNumberOfIterations(5)\n",
    "smoothing.SetTimeStep(0.125)\n",
    "smoothing.Update()\n",
    "\n",
    "images_1_smoothed = smoothing.GetOutput()\n",
    "\n",
    "smoothing = itk.CurvatureFlowImageFilter.New(Input=images_2_resampled)\n",
    "smoothing.SetNumberOfIterations(5)\n",
    "smoothing.SetTimeStep(0.125)\n",
    "smoothing.Update()\n",
    "\n",
    "images_2_smoothed = smoothing.GetOutput()\n",
    "\n",
    "images_1_smoothed.shape, images_2_smoothed.shape"
   ]
  },
  {
   "cell_type": "code",
   "execution_count": null,
   "id": "4a63401e",
   "metadata": {},
   "outputs": [],
   "source": [
    "fig, axes = plt.subplots(3, 2, figsize=(8, 10))\n",
    "axes[0, 0].imshow(images_2_resampled[100, :, :], cmap='gray')\n",
    "axes[0, 1].imshow(images_2_smoothed[100, :, :], cmap='gray')\n",
    "axes[1, 0].imshow(images_2_resampled[:, 100, :], cmap='gray')\n",
    "axes[1, 1].imshow(images_2_smoothed[:, 100, :], cmap='gray')\n",
    "axes[2, 0].imshow(images_2_resampled[:, :, 150], cmap='gray')\n",
    "axes[2, 1].imshow(images_2_smoothed[:, :, 150], cmap='gray')"
   ]
  },
  {
   "cell_type": "code",
   "execution_count": null,
   "id": "aaa7335c",
   "metadata": {},
   "outputs": [],
   "source": [
    "# Perform segmentation on images_1_smoothed\n",
    "ConnectedFilterType = itk.ConnectedThresholdImageFilter[itk.Image[itk.F,3], itk.Image[itk.F,3]]\n",
    "connectedThreshold = ConnectedFilterType.New()\n",
    "\n",
    "lower_threshold = 500.\n",
    "upper_threshold = 800.\n",
    "index = (90,70,51)\n",
    "\n",
    "connectedThreshold.SetInput(images_1_smoothed)\n",
    "connectedThreshold.SetLower(lower_threshold)\n",
    "connectedThreshold.SetUpper(upper_threshold)\n",
    "connectedThreshold.SetReplaceValue(255)\n",
    "\n",
    "\n",
    "connectedThreshold.SetSeed(index)\n",
    "seed_value = images_1_smoothed.GetPixel(index)\n",
    "\n",
    "connectedThreshold.Update()\n",
    "\n",
    "images_1_segmented = connectedThreshold.GetOutput()\n",
    "\n",
    "fig, axes = plt.subplots(3, 2, figsize=(8, 10))\n",
    "axes[0, 0].imshow(images_1[index[0] - 35, :, :], cmap='gray')\n",
    "axes[0, 1].imshow(images_1_segmented[index[0] - 35, :, :], cmap='gray')\n",
    "axes[1, 0].imshow(images_1[:, index[1], :], cmap='gray')\n",
    "axes[1, 1].imshow(images_1_segmented[:, index[1], :], cmap='gray')\n",
    "axes[2, 0].imshow(images_1[:, :, index[2] + 30], cmap='gray')\n",
    "axes[2, 1].imshow(images_1_segmented[:, :, index[2] + 30], cmap='gray')"
   ]
  },
  {
   "cell_type": "code",
   "execution_count": null,
   "id": "06a32117",
   "metadata": {
    "scrolled": false
   },
   "outputs": [],
   "source": [
    "# Perform segmentation on images_2_smoothed\n",
    "ConnectedFilterType = itk.ConnectedThresholdImageFilter[itk.Image[itk.F,3], itk.Image[itk.F,3]]\n",
    "connectedThreshold = ConnectedFilterType.New()\n",
    "\n",
    "lower_threshold = 500.\n",
    "upper_threshold = 800.\n",
    "index = (90,70,51)\n",
    "\n",
    "connectedThreshold.SetInput(images_2_smoothed)\n",
    "connectedThreshold.SetLower(lower_threshold)\n",
    "connectedThreshold.SetUpper(upper_threshold)\n",
    "connectedThreshold.SetReplaceValue(255)\n",
    "\n",
    "connectedThreshold.SetSeed(index)\n",
    "seed_value = images_2_smoothed.GetPixel(index)\n",
    "\n",
    "connectedThreshold.Update()\n",
    "\n",
    "images_2_segmented = connectedThreshold.GetOutput()\n",
    "\n",
    "fig, axes = plt.subplots(3, 2, figsize=(8, 10))\n",
    "axes[0, 0].imshow(images_2_resampled[index[0] - 35, :, :], cmap='gray')\n",
    "axes[0, 1].imshow(images_2_segmented[index[0] - 35, :, :], cmap='gray')\n",
    "axes[1, 0].imshow(images_2_resampled[:, index[1], :], cmap='gray')\n",
    "axes[1, 1].imshow(images_2_segmented[:, index[1], :], cmap='gray')\n",
    "axes[2, 0].imshow(images_2_resampled[:, :, index[2] + 30], cmap='gray')\n",
    "axes[2, 1].imshow(images_2_segmented[:, :, index[2] + 30], cmap='gray')"
   ]
  },
  {
   "cell_type": "code",
   "execution_count": null,
   "id": "5bb20513",
   "metadata": {
    "scrolled": false
   },
   "outputs": [],
   "source": [
    "from ipywidgets import widgets, interactive\n",
    "from IPython.display import display\n",
    "\n",
    "slider = widgets.IntSlider(min=1, max=images_1.shape[0]-1, continuous_update=True)\n",
    "\n",
    "def update_images(image_z):\n",
    "    display_images(image_z, image_z, images_1_segmented, images_2_segmented)\n",
    "\n",
    "interactive_plot = interactive(update_images, image_z=slider)\n",
    "display(interactive_plot)"
   ]
  },
  {
   "cell_type": "code",
   "execution_count": null,
   "id": "a573393f",
   "metadata": {},
   "outputs": [],
   "source": [
    "visualize_image(images_1_segmented)"
   ]
  },
  {
   "cell_type": "code",
   "execution_count": null,
   "id": "fe69b4dd",
   "metadata": {
    "scrolled": true
   },
   "outputs": [],
   "source": [
    "visualize_image(images_2_segmented)"
   ]
  },
  {
   "cell_type": "markdown",
   "id": "cf198120",
   "metadata": {},
   "source": [
    "## Etape 3 - Comparaison des différences"
   ]
  },
  {
   "cell_type": "code",
   "execution_count": null,
   "id": "efcd371a",
   "metadata": {},
   "outputs": [],
   "source": [
    "def calculate_correlation(segmented_image_1, segmented_image_2) :\n",
    "    flatten_segmented_image_1 = itk.array_from_image(segmented_image_1).flatten()\n",
    "    flatten_segmented_image_2 = itk.array_from_image(segmented_image_2).flatten()\n",
    "\n",
    "    correlation = np.corrcoef(flatten_segmented_image_1, flatten_segmented_image_2)[0, 1]\n",
    "    \n",
    "    return correlation\n",
    "\n",
    "correlation_coeff = calculate_correlation(images_1_segmented, images_2_segmented)\n",
    "\n",
    "print(\"Correlation coefficient between the segmented parts of image 1 and 2:\", correlation_coeff)"
   ]
  },
  {
   "cell_type": "code",
   "execution_count": null,
   "id": "fb7785bb",
   "metadata": {
    "scrolled": true
   },
   "outputs": [],
   "source": [
    "def calculate_volume(segmented_image, voxel_spacing):\n",
    "    voxel_volume = np.prod(voxel_spacing)\n",
    "    segmented_voxels = np.count_nonzero(segmented_image)\n",
    "    volume = segmented_voxels * voxel_volume\n",
    "    return volume\n",
    "\n",
    "spacing = images_1.GetSpacing()\n",
    "\n",
    "\n",
    "print(\"Voxel spacing:\", spacing)\n",
    "# Assuming segmented_image_1 and segmented_image_2 are your segmented image arrays\n",
    "# and voxel_spacing_1 and voxel_spacing_2 are the voxel spacing arrays for each image\n",
    "\n",
    "volume_1 = calculate_volume(images_1_segmented, spacing)\n",
    "volume_2 = calculate_volume(images_2_segmented, spacing)\n",
    "\n",
    "print(\"Volume of segmented image 1:\", volume_1)\n",
    "print(\"Volume of segmented image 2:\", volume_2)"
   ]
  },
  {
   "cell_type": "code",
   "execution_count": null,
   "id": "883dafb1",
   "metadata": {},
   "outputs": [],
   "source": [
    "def calculate_mean_intensity(segmented_image):\n",
    "    nonzero_voxels = segmented_image[segmented_image != 0]\n",
    "    mean_intensity = np.mean(nonzero_voxels)\n",
    "    return mean_intensity\n",
    "\n",
    "mean_intensity_1 = calculate_mean_intensity(images_1_segmented)\n",
    "mean_intensity_2 = calculate_mean_intensity(images_2_segmented)\n",
    "\n",
    "print(\"Mean intensity of segmented image 1:\", mean_intensity_1)\n",
    "print(\"Mean intensity of segmented image 2:\", mean_intensity_2)"
   ]
  },
  {
   "cell_type": "markdown",
   "id": "9fb7f5c8",
   "metadata": {},
   "source": [
    "Nous pouvons observer que le coefficient de corrélation entre les deux ségmentations de tumeur provenant des deux images est haut et positif, à 0.72. Cela suggère que les deux ségmentations sont hautement similaires et que les changements sont limités, mais subsistent néanmoins étant donné que la relation n'est pas parfaite.\n",
    "\n",
    "La deuxième image de la tumeur présente un volume et une intensité moyenne plus importants que la première image. Cela suggère que la deuxième tumeur est en effet différente de la première, plus étendue, et contient une plus grande quantité de tissu tumoral que la première tumeur. \n",
    "\n",
    "Le volume représente la taille globale de la tumeur, tandis que l'intensité moyenne reflète la concentration ou la densité des voxels dans la tumeur. Une plus grande intensité moyenne peut indiquer une plus grande accumulation de substances d'intérêt, telles que des marqueurs tumoraux, ou une plus grande densité cellulaire."
   ]
  },
  {
   "cell_type": "code",
   "execution_count": null,
   "id": "fc75b4c1",
   "metadata": {},
   "outputs": [],
   "source": [
    "git@github.com:Kokuzuma2/ITKVTK_PROJECT.git[Original Image](./resources/airplane.bmp)"
   ]
  }
 ],
 "metadata": {
  "kernelspec": {
   "display_name": "Python 3 (ipykernel)",
   "language": "python",
   "name": "python3"
  },
  "language_info": {
   "codemirror_mode": {
    "name": "ipython",
    "version": 3
   },
   "file_extension": ".py",
   "mimetype": "text/x-python",
   "name": "python",
   "nbconvert_exporter": "python",
   "pygments_lexer": "ipython3",
   "version": "3.8.10"
  }
 },
 "nbformat": 4,
 "nbformat_minor": 5
}
