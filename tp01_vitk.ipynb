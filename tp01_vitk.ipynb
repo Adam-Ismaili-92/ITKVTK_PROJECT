{
 "cells": [
  {
   "cell_type": "markdown",
   "source": [
    "# Exercice 1 : ITK Hello World\n",
    "Le but de cet exercice est d’écrire un script Python qui affiche la version d’ITK installée. Cette application permet juste de vérifier qu’ITK est bien installé et fonctionne correctement.\n",
    "\n",
    "Astuces :\n",
    "1. On importera le module python itk\n",
    "2. Il faudra chercher dans la documentation (ou sur le web) comment afficher la version du\n",
    "package.\n"
   ],
   "metadata": {
    "collapsed": false
   }
  },
  {
   "cell_type": "code",
   "execution_count": null,
   "outputs": [],
   "source": [],
   "metadata": {
    "collapsed": false
   }
  },
  {
   "cell_type": "markdown",
   "source": [
    "# Exercice 2 : Lecture d’une image\n",
    "\n",
    "Le but de cet exercice est de lire l’image « itklogo.jpg » et d’afficher la valeur du pixel à l’index (10,10) sur la console.\n",
    "\n",
    "Astuces :\n",
    "1. On utilisera la classe « ImageFileReader » pour cela\n",
    "2. Cette classe est « templatée » sur le type d’image. Nous pourrons utiliser un type unsigned\n",
    "char."
   ],
   "metadata": {
    "collapsed": false
   }
  },
  {
   "cell_type": "code",
   "execution_count": null,
   "outputs": [],
   "source": [],
   "metadata": {
    "collapsed": false
   }
  },
  {
   "cell_type": "markdown",
   "source": [
    "Quelle est la valeur du pixel à l’index [10,10] ?"
   ],
   "metadata": {
    "collapsed": false
   }
  },
  {
   "cell_type": "code",
   "execution_count": null,
   "outputs": [],
   "source": [],
   "metadata": {
    "collapsed": false
   }
  },
  {
   "cell_type": "markdown",
   "source": [
    "Quelle est la valeur du pixel à l’index [600,133] ?"
   ],
   "metadata": {
    "collapsed": false
   }
  },
  {
   "cell_type": "code",
   "execution_count": null,
   "outputs": [],
   "source": [],
   "metadata": {
    "collapsed": false
   }
  },
  {
   "cell_type": "markdown",
   "source": [
    "Peut-on utiliser un type d’image RGB ?"
   ],
   "metadata": {
    "collapsed": false
   }
  },
  {
   "cell_type": "code",
   "execution_count": null,
   "outputs": [],
   "source": [],
   "metadata": {
    "collapsed": false
   }
  },
  {
   "cell_type": "markdown",
   "source": [
    "Il y’a-t-il une méthode plus simple pour lire une image ?"
   ],
   "metadata": {
    "collapsed": false
   }
  },
  {
   "cell_type": "code",
   "execution_count": null,
   "outputs": [],
   "source": [],
   "metadata": {
    "collapsed": false
   }
  },
  {
   "cell_type": "markdown",
   "source": [
    "# Exercice 3 : Lecture et écriture d’une image\n",
    "Modifier le code de l’exercice précédent afin d’écrire l’image qui vient d’être lue sur le disque dur sous le nom « imagesortie.jpg » et « imagesortie.bmp ».\n",
    "\n",
    "Astuces :\n",
    "1. On utilisera la classe « ImageFileWriter » pour cela"
   ],
   "metadata": {
    "collapsed": false
   }
  },
  {
   "cell_type": "code",
   "execution_count": null,
   "outputs": [],
   "source": [],
   "metadata": {
    "collapsed": false
   }
  },
  {
   "cell_type": "markdown",
   "source": [
    "Comment peut on essayer de simplifier le code au minimum ?"
   ],
   "metadata": {
    "collapsed": false
   }
  },
  {
   "cell_type": "code",
   "execution_count": null,
   "outputs": [],
   "source": [],
   "metadata": {
    "collapsed": false
   }
  },
  {
   "cell_type": "markdown",
   "source": [
    "# Exercice 4 : Filtrage d’image\n",
    "En utilisant le filtre itkRecursiveGaussianImageFilter, écrire un programme qui lit « itklogo.jpg » et applique un filtre Gaussien sur l’image.\n",
    "\n",
    "Astuces :\n",
    "1. Les filtres d’ITK sont templatés. Il faut trouver les bonnes valeurs de template.\n",
    "2. Attention certains types de pixel ne sont pas supporté par le wrapping Python d’ITK\n"
   ],
   "metadata": {
    "collapsed": false
   }
  },
  {
   "cell_type": "code",
   "execution_count": null,
   "outputs": [],
   "source": [],
   "metadata": {
    "collapsed": false
   }
  },
  {
   "cell_type": "markdown",
   "source": [
    "Quelle est le paramètre pour modifier la valeur du flou ?"
   ],
   "metadata": {
    "collapsed": false
   }
  },
  {
   "cell_type": "code",
   "execution_count": null,
   "outputs": [],
   "source": [],
   "metadata": {
    "collapsed": false
   }
  },
  {
   "cell_type": "markdown",
   "source": [
    "Comment peut-on appliquer le filtre dans toutes les directions ?"
   ],
   "metadata": {
    "collapsed": false
   }
  },
  {
   "cell_type": "code",
   "execution_count": null,
   "outputs": [],
   "source": [],
   "metadata": {
    "collapsed": false
   }
  },
  {
   "cell_type": "markdown",
   "source": [
    "Si vous avez le temps vous pouvez modifier votre code pour utiliser le filtre\n",
    "itkAbsoluteValueDifferenceImageFilter afin de calculer la différence entre deux images."
   ],
   "metadata": {
    "collapsed": false
   }
  },
  {
   "cell_type": "code",
   "execution_count": null,
   "outputs": [],
   "source": [],
   "metadata": {
    "collapsed": false
   }
  },
  {
   "cell_type": "markdown",
   "source": [
    "# Exercice 5 : Segmentation d’image\n",
    "Nous allons segmenter l’image « brain.png » en utilisant le filtre itkConnectedThresholdImageFilter\n",
    "\n",
    "Astuces :\n",
    "1. Vous aurez de meilleurs résultats en appliquant un filtre itkGradientAnisotropicDiffusionImageFilter en amont du pipeline de traitement.\n",
    "2. Vous pouvez utiliser l’index [110,100] comme point de départ\n",
    "3. Pour écrire l’image finale vous aurez surement besoin d’utiliser le filtre\n",
    "itkRescaleIntensityImageFilter."
   ],
   "metadata": {
    "collapsed": false
   }
  },
  {
   "cell_type": "code",
   "execution_count": null,
   "outputs": [],
   "source": [],
   "metadata": {
    "collapsed": false
   }
  },
  {
   "cell_type": "markdown",
   "source": [
    "# Exercice 6 : Recalage par Translation\n",
    "Ecrire un programme qui effectue le recalage de l’image\n",
    "BrainProtonDensitySliceShifted13x17y.png (moving) avec BrainProtonDensitySliceBorder20.png (fixed) en utilisant :\n",
    "● Transformation : itkTranslationTransform\n",
    "● Métrique : itkMeanSquaresImageToImageMetricv4\n",
    "● Interpolateur : itkLinearInterpolateImageFunction\n",
    "● Optimiseur: itkRegularStepGradientDescentOptimizerv4\n",
    "La classe qui lie tous ces éléments est itkImageRegistrationMethodv4\n",
    "\n",
    "Astuces :\n",
    "1. Pour lancer l’optimisation il faut appeler Update() sur itkImageRegistrationMethodv4\n",
    "2. Récupérez les paramètres finaux de la transformation après optimization\n",
    "3. Pour afficher le résultat du recalage on utilisera la classe : itkResampleImageFilter."
   ],
   "metadata": {
    "collapsed": false
   }
  },
  {
   "cell_type": "code",
   "execution_count": null,
   "outputs": [],
   "source": [],
   "metadata": {
    "collapsed": false
   }
  },
  {
   "cell_type": "markdown",
   "source": [
    "Essayer de diminuer le nombre d’itérations pour voir comment l’optimisation se comporte"
   ],
   "metadata": {
    "collapsed": false
   }
  },
  {
   "cell_type": "code",
   "execution_count": null,
   "outputs": [],
   "source": [],
   "metadata": {
    "collapsed": false
   }
  },
  {
   "cell_type": "markdown",
   "source": [
    "# Exercice 7 : Recalage par transformation rigide\n",
    "A partir de l’exercice précédent, écrire un programme qui effectue le recalage de l’image BrainProtonDensitySliceR10X13Y17.png (moving) avec BrainProtonDensitySliceBorder20.png (fixed) en utilisant une transformation rigide.\n",
    "\n",
    "Astuces :\n",
    "1. Il peut être utile de fixer le centre de rotation.\n",
    "2. Il peut être nécessaire d’utiliser la fonction SetScales() sur l’optimizer\n"
   ],
   "metadata": {
    "collapsed": false
   }
  },
  {
   "cell_type": "code",
   "execution_count": null,
   "outputs": [],
   "source": [],
   "metadata": {
    "collapsed": false
   }
  },
  {
   "cell_type": "markdown",
   "source": [
    "# Exercice 8 : Recalage par information mutuelle\n",
    "A partir de l’exercice précédent, écrire un programme qui effectue le recalage de l’image BrainProtonDensitySliceR10X13Y17.png (moving) avec BrainT1SliceBorder20.png (fixed) en utilisant une transformation itkSimilarity2DTransform et la métrique d’information mutuelle par Mattes (itkMattesMutualInformationImageToImageMetricv4)."
   ],
   "metadata": {
    "collapsed": false
   }
  },
  {
   "cell_type": "code",
   "execution_count": null,
   "outputs": [],
   "source": [],
   "metadata": {
    "collapsed": false
   }
  },
  {
   "cell_type": "markdown",
   "source": [
    "Quels sont les paramètres de cette métrique qui peuvent influencer le résultat du recalage ?"
   ],
   "metadata": {
    "collapsed": false
   }
  },
  {
   "cell_type": "code",
   "execution_count": null,
   "outputs": [],
   "source": [],
   "metadata": {
    "collapsed": false
   }
  }
 ],
 "metadata": {
  "kernelspec": {
   "display_name": "Python 3",
   "language": "python",
   "name": "python3"
  },
  "language_info": {
   "codemirror_mode": {
    "name": "ipython",
    "version": 2
   },
   "file_extension": ".py",
   "mimetype": "text/x-python",
   "name": "python",
   "nbconvert_exporter": "python",
   "pygments_lexer": "ipython2",
   "version": "2.7.6"
  }
 },
 "nbformat": 4,
 "nbformat_minor": 0
}
