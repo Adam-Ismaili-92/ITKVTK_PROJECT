{
 "cells": [
  {
   "cell_type": "markdown",
   "source": [
    "# Exercice 1 : ITK Hello World\n",
    "Le but de cet exercice est d’écrire un script Python qui affiche la version d’ITK installée. Cette application permet juste de vérifier qu’ITK est bien installé et fonctionne correctement.\n",
    "\n",
    "Astuces :\n",
    "1. On importera le module python itk\n",
    "2. Il faudra chercher dans la documentation (ou sur le web) comment afficher la version du\n",
    "package.\n"
   ],
   "metadata": {
    "collapsed": false
   }
  },
  {
   "cell_type": "code",
   "execution_count": 39,
   "outputs": [
    {
     "name": "stdout",
     "output_type": "stream",
     "text": [
      "5.3.0\n"
     ]
    }
   ],
   "source": [
    "# Importer le module ITK\n",
    "import itk\n",
    "\n",
    "# Afficher la version d'ITK installée\n",
    "print(itk.Version.GetITKVersion())\n"
   ],
   "metadata": {
    "collapsed": false,
    "ExecuteTime": {
     "end_time": "2023-07-15T16:03:20.267754800Z",
     "start_time": "2023-07-15T16:03:20.225408004Z"
    }
   }
  },
  {
   "cell_type": "markdown",
   "source": [
    "# Exercice 2 : Lecture d’une image\n",
    "\n",
    "Le but de cet exercice est de lire l’image « itklogo.jpg » et d’afficher la valeur du pixel à l’index (10,10) sur la console.\n",
    "\n",
    "Astuces :\n",
    "1. On utilisera la classe « ImageFileReader » pour cela\n",
    "2. Cette classe est « templatée » sur le type d’image. Nous pourrons utiliser un type unsigned\n",
    "char."
   ],
   "metadata": {
    "collapsed": false
   }
  },
  {
   "cell_type": "code",
   "execution_count": 40,
   "outputs": [],
   "source": [
    "# Importer les modules nécessaires\n",
    "import itk\n",
    "\n",
    "# Spécifier le type d'image (unsigned char)\n",
    "ImageType = itk.Image[itk.UC, 2]# Créer un objet de type ImageFileReader\n",
    "reader = itk.ImageFileReader[ImageType].New()\n",
    "\n",
    "# Spécifier le nom du fichier à lire\n",
    "reader.SetFileName(\"/home/scott/epita/ITKVTK_PROJECT/Data/itklogo.jpg\")\n",
    "\n",
    "# Lire l'image\n",
    "reader.Update()\n",
    "\n",
    "# Récupérer l'image du lecteur\n",
    "image = reader.GetOutput()\n",
    "\n",
    "# Afficher la valeur du pixel à l'index (10,10)\n",
    "index = (10, 10)\n"
   ],
   "metadata": {
    "collapsed": false,
    "ExecuteTime": {
     "end_time": "2023-07-15T16:03:21.448810435Z",
     "start_time": "2023-07-15T16:03:21.439782357Z"
    }
   }
  },
  {
   "cell_type": "markdown",
   "source": [
    "Quelle est la valeur du pixel à l’index [10,10] ?"
   ],
   "metadata": {
    "collapsed": false
   }
  },
  {
   "cell_type": "code",
   "execution_count": 41,
   "outputs": [
    {
     "name": "stdout",
     "output_type": "stream",
     "text": [
      "Valeur du pixel à l'index (10,10) : 255\n"
     ]
    }
   ],
   "source": [
    "print(\"Valeur du pixel à l'index (10,10) :\", image.GetPixel(index))\n"
   ],
   "metadata": {
    "collapsed": false,
    "ExecuteTime": {
     "end_time": "2023-07-15T16:03:22.070291838Z",
     "start_time": "2023-07-15T16:03:22.063793694Z"
    }
   }
  },
  {
   "cell_type": "markdown",
   "source": [
    "Quelle est la valeur du pixel à l’index [600,133] ?"
   ],
   "metadata": {
    "collapsed": false
   }
  },
  {
   "cell_type": "code",
   "execution_count": 42,
   "outputs": [
    {
     "name": "stdout",
     "output_type": "stream",
     "text": [
      "Valeur du pixel à l'index [600,133] : 253\n"
     ]
    }
   ],
   "source": [
    "index = (600, 343)\n",
    "print(\"Valeur du pixel à l'index [600,133] :\", image.GetPixel(index))\n"
   ],
   "metadata": {
    "collapsed": false,
    "ExecuteTime": {
     "end_time": "2023-07-15T16:03:22.538608692Z",
     "start_time": "2023-07-15T16:03:22.531260153Z"
    }
   }
  },
  {
   "cell_type": "markdown",
   "source": [
    "Peut-on utiliser un type d’image RGB ?"
   ],
   "metadata": {
    "collapsed": false
   }
  },
  {
   "cell_type": "code",
   "execution_count": 43,
   "outputs": [],
   "source": [
    "# Spécifier le type d'image (RGB)\n",
    "ImageType = itk.Image[itk.RGBPixel[itk.UC], 2]\n",
    "\n",
    "# Le reste du script reste le même\n"
   ],
   "metadata": {
    "collapsed": false,
    "ExecuteTime": {
     "end_time": "2023-07-15T16:03:22.926980037Z",
     "start_time": "2023-07-15T16:03:22.922964389Z"
    }
   }
  },
  {
   "cell_type": "markdown",
   "source": [
    "Il y’a-t-il une méthode plus simple pour lire une image ?"
   ],
   "metadata": {
    "collapsed": false
   }
  },
  {
   "cell_type": "code",
   "execution_count": 44,
   "outputs": [
    {
     "name": "stdout",
     "output_type": "stream",
     "text": [
      "Valeur du pixel à l'index [600,133] : swig_name (255  255  255)\n"
     ]
    }
   ],
   "source": [
    "import itk\n",
    "\n",
    "# Lire l'image\n",
    "image = itk.imread(\"/home/scott/epita/ITKVTK_PROJECT/Data/itklogo.jpg\")\n",
    "\n",
    "# Afficher la valeur du pixel à l'index [600,133]\n",
    "index = (600, 133)\n",
    "print(\"Valeur du pixel à l'index [600,133] :\", image.GetPixel(index))"
   ],
   "metadata": {
    "collapsed": false,
    "ExecuteTime": {
     "end_time": "2023-07-15T16:03:23.298270212Z",
     "start_time": "2023-07-15T16:03:23.292481649Z"
    }
   }
  },
  {
   "cell_type": "markdown",
   "source": [
    "# Exercice 3 : Lecture et écriture d’une image\n",
    "Modifier le code de l’exercice précédent afin d’écrire l’image qui vient d’être lue sur le disque dur sous le nom « imagesortie.jpg » et « imagesortie.bmp ».\n",
    "\n",
    "Astuces :\n",
    "1. On utilisera la classe « ImageFileWriter » pour cela"
   ],
   "metadata": {
    "collapsed": false
   }
  },
  {
   "cell_type": "code",
   "execution_count": 45,
   "outputs": [
    {
     "name": "stdout",
     "output_type": "stream",
     "text": [
      "Valeur du pixel à l'index [600,133] : swig_name (255  255  255)\n"
     ]
    }
   ],
   "source": [
    "import itk\n",
    "\n",
    "# Lire l'image\n",
    "image = itk.imread(\"/home/scott/epita/ITKVTK_PROJECT/Data/itklogo.jpg\")\n",
    "\n",
    "# Afficher la valeur du pixel à l'index [600,133]\n",
    "index = (600, 133)\n",
    "print(\"Valeur du pixel à l'index [600,133] :\", image.GetPixel(index))\n",
    "\n",
    "# Spécifier le type d'image (basé sur le type de l'image lue)\n",
    "ImageType = type(image)\n",
    "\n",
    "# Créer un objet ImageFileWriter pour l'image jpg\n",
    "writer_jpg = itk.ImageFileWriter[ImageType].New()\n",
    "writer_jpg.SetFileName(\"/home/scott/epita/ITKVTK_PROJECT/Data/imagesortie.jpg\")\n",
    "writer_jpg.SetInput(image)\n",
    "\n",
    "# Écrire l'image jpg\n",
    "writer_jpg.Update()\n",
    "\n",
    "# Créer un objet ImageFileWriter pour l'image bmp\n",
    "writer_bmp = itk.ImageFileWriter[ImageType].New()\n",
    "writer_bmp.SetFileName(\"/home/scott/epita/ITKVTK_PROJECT/Data/imagesortie.bmp\")\n",
    "writer_bmp.SetInput(image)\n",
    "\n",
    "# Écrire l'image bmp\n",
    "writer_bmp.Update()"
   ],
   "metadata": {
    "collapsed": false,
    "ExecuteTime": {
     "end_time": "2023-07-15T16:03:23.621131600Z",
     "start_time": "2023-07-15T16:03:23.579632354Z"
    }
   }
  },
  {
   "cell_type": "markdown",
   "source": [
    "Comment peut on essayer de simplifier le code au minimum ?"
   ],
   "metadata": {
    "collapsed": false
   }
  },
  {
   "cell_type": "code",
   "execution_count": 46,
   "outputs": [
    {
     "name": "stdout",
     "output_type": "stream",
     "text": [
      "Valeur du pixel à l'index [600,133] : swig_name (255  255  255)\n"
     ]
    }
   ],
   "source": [
    "import itk\n",
    "\n",
    "# Lire l'image\n",
    "image = itk.imread(\"/home/scott/epita/ITKVTK_PROJECT/Data/itklogo.jpg\")\n",
    "\n",
    "# Afficher la valeur du pixel à l'index [600,133]\n",
    "index = (600, 133)\n",
    "print(\"Valeur du pixel à l'index [600,133] :\", image.GetPixel(index))\n",
    "\n",
    "# Écrire l'image en format .jpg\n",
    "itk.imwrite(image, \"/home/scott/epita/ITKVTK_PROJECT/Data/imagesortie.jpg\")\n",
    "\n",
    "# Écrire l'image en format .bmp\n",
    "itk.imwrite(image, \"/home/scott/epita/ITKVTK_PROJECT/Data/imagesortie.bmp\")\n"
   ],
   "metadata": {
    "collapsed": false,
    "ExecuteTime": {
     "end_time": "2023-07-15T16:03:23.856718525Z",
     "start_time": "2023-07-15T16:03:23.817638195Z"
    }
   }
  },
  {
   "cell_type": "markdown",
   "source": [
    "# Exercice 4 : Filtrage d’image\n",
    "En utilisant le filtre itkRecursiveGaussianImageFilter, écrire un programme qui lit « itklogo.jpg » et applique un filtre Gaussien sur l’image.\n",
    "\n",
    "Astuces :\n",
    "1. Les filtres d’ITK sont templatés. Il faut trouver les bonnes valeurs de template.\n",
    "2. Attention certains types de pixel ne sont pas supporté par le wrapping Python d’ITK\n"
   ],
   "metadata": {
    "collapsed": false
   }
  },
  {
   "cell_type": "code",
   "execution_count": 47,
   "outputs": [],
   "source": [
    "import itk\n",
    "\n",
    "# Définir le chemin de l'image\n",
    "image_path = \"/home/scott/epita/ITKVTK_PROJECT/Data/itklogo.jpg\"\n",
    "\n",
    "# Lire l'image (type de pixel unsigned char)\n",
    "input_image = itk.imread(image_path, itk.UC)\n",
    "\n",
    "# Convertir l'image en float pour le filtrage\n",
    "input_image_float = itk.cast_image_filter(input_image, ttype=(type(input_image), itk.Image[itk.F, 2]))\n",
    "\n",
    "# Créer et configurer le filtre gaussien\n",
    "gaussian_filter = itk.RecursiveGaussianImageFilter.New(input_image_float)\n",
    "gaussian_filter.SetSigma(2.0)\n",
    "\n",
    "# Appliquer le filtre et obtenir l'image filtrée\n",
    "filtered_image_float = gaussian_filter.GetOutput()\n",
    "\n",
    "# Reconvertir l'image filtrée en unsigned char pour l'écriture\n",
    "filtered_image = itk.cast_image_filter(filtered_image_float, ttype=(type(filtered_image_float), itk.Image[itk.UC, 2]))\n",
    "\n",
    "# Écrire l'image filtrée sur le disque\n",
    "itk.imwrite(filtered_image, \"filtered_itklogo.jpg\")\n"
   ],
   "metadata": {
    "collapsed": false,
    "ExecuteTime": {
     "end_time": "2023-07-15T16:03:24.074656716Z",
     "start_time": "2023-07-15T16:03:24.048484357Z"
    }
   }
  },
  {
   "cell_type": "markdown",
   "source": [
    "Quelle est le paramètre pour modifier la valeur du flou ?"
   ],
   "metadata": {
    "collapsed": false
   }
  },
  {
   "cell_type": "code",
   "execution_count": 48,
   "outputs": [],
   "source": [
    "#sigma"
   ],
   "metadata": {
    "collapsed": false,
    "ExecuteTime": {
     "end_time": "2023-07-15T16:03:24.270861395Z",
     "start_time": "2023-07-15T16:03:24.268566039Z"
    }
   }
  },
  {
   "cell_type": "markdown",
   "source": [
    "Comment peut-on appliquer le filtre dans toutes les directions ?"
   ],
   "metadata": {
    "collapsed": false
   }
  },
  {
   "cell_type": "code",
   "execution_count": 49,
   "outputs": [],
   "source": [
    "# Le filtre RecursiveGaussianImageFilter applique par défaut le flou dans toutes les directions. Vous n'avez donc pas besoin de faire quoi que ce soit de plus pour flouter l'image dans toutes les directions."
   ],
   "metadata": {
    "collapsed": false,
    "ExecuteTime": {
     "end_time": "2023-07-15T16:03:24.476128783Z",
     "start_time": "2023-07-15T16:03:24.463764659Z"
    }
   }
  },
  {
   "cell_type": "markdown",
   "source": [
    "Si vous avez le temps vous pouvez modifier votre code pour utiliser le filtre\n",
    "itkAbsoluteValueDifferenceImageFilter afin de calculer la différence entre deux images."
   ],
   "metadata": {
    "collapsed": false
   }
  },
  {
   "cell_type": "code",
   "execution_count": 50,
   "outputs": [],
   "source": [
    "import itk\n",
    "\n",
    "# Définir le chemin de l'image\n",
    "image_path = \"/home/scott/epita/ITKVTK_PROJECT/Data/itklogo.jpg\"\n",
    "\n",
    "# Lire l'image (type de pixel unsigned char)\n",
    "input_image = itk.imread(image_path, itk.UC)\n",
    "\n",
    "# Convertir l'image en float pour le filtrage\n",
    "input_image_float = itk.cast_image_filter(input_image, ttype=(type(input_image), itk.Image[itk.F, 2]))\n",
    "\n",
    "# Créer et configurer le filtre gaussien\n",
    "gaussian_filter = itk.RecursiveGaussianImageFilter.New(input_image_float)\n",
    "gaussian_filter.SetSigma(2.0)\n",
    "\n",
    "# Appliquer le filtre et obtenir l'image filtrée\n",
    "filtered_image_float = gaussian_filter.GetOutput()\n",
    "\n",
    "# Calculer la différence absolue entre l'image d'entrée et l'image filtrée\n",
    "difference_filter = itk.AbsoluteValueDifferenceImageFilter.New(input_image_float, filtered_image_float)\n",
    "\n",
    "# Obtenir l'image de différence\n",
    "difference_image_float = difference_filter.GetOutput()\n",
    "\n",
    "# Convertir les images filtrée et de différence en unsigned char pour l'écriture\n",
    "filtered_image = itk.cast_image_filter(filtered_image_float, ttype=(type(filtered_image_float), itk.Image[itk.UC, 2]))\n",
    "difference_image = itk.cast_image_filter(difference_image_float, ttype=(type(difference_image_float), itk.Image[itk.UC, 2]))\n",
    "\n",
    "# Écrire les images filtrée et de différence sur le disque\n",
    "itk.imwrite(filtered_image, \"filtered_itklogo.jpg\")\n",
    "itk.imwrite(difference_image, \"difference_itklogo.jpg\")\n"
   ],
   "metadata": {
    "collapsed": false,
    "ExecuteTime": {
     "end_time": "2023-07-15T16:03:24.774082586Z",
     "start_time": "2023-07-15T16:03:24.721908032Z"
    }
   }
  },
  {
   "cell_type": "markdown",
   "source": [
    "# Exercice 5 : Segmentation d’image\n",
    "Nous allons segmenter l’image « brain.png » en utilisant le filtre itkConnectedThresholdImageFilter\n",
    "\n",
    "Astuces :\n",
    "1. Vous aurez de meilleurs résultats en appliquant un filtre itkGradientAnisotropicDiffusionImageFilter en amont du pipeline de traitement.\n",
    "2. Vous pouvez utiliser l’index [110,100] comme point de départ\n",
    "3. Pour écrire l’image finale vous aurez surement besoin d’utiliser le filtre\n",
    "itkRescaleIntensityImageFilter."
   ],
   "metadata": {
    "collapsed": false
   }
  },
  {
   "cell_type": "code",
   "execution_count": 50,
   "outputs": [],
   "source": [],
   "metadata": {
    "collapsed": false,
    "ExecuteTime": {
     "end_time": "2023-07-15T16:03:25.110384078Z",
     "start_time": "2023-07-15T16:03:25.108225882Z"
    }
   }
  },
  {
   "cell_type": "markdown",
   "source": [
    "# Exercice 6 : Recalage par Translation\n",
    "Ecrire un programme qui effectue le recalage de l’image\n",
    "BrainProtonDensitySliceShifted13x17y.png (moving) avec BrainProtonDensitySliceBorder20.png (fixed) en utilisant :\n",
    "● Transformation : itkTranslationTransform\n",
    "● Métrique : itkMeanSquaresImageToImageMetricv4\n",
    "● Interpolateur : itkLinearInterpolateImageFunction\n",
    "● Optimiseur: itkRegularStepGradientDescentOptimizerv4\n",
    "La classe qui lie tous ces éléments est itkImageRegistrationMethodv4\n",
    "\n",
    "Astuces :\n",
    "1. Pour lancer l’optimisation il faut appeler Update() sur itkImageRegistrationMethodv4\n",
    "2. Récupérez les paramètres finaux de la transformation après optimization\n",
    "3. Pour afficher le résultat du recalage on utilisera la classe : itkResampleImageFilter."
   ],
   "metadata": {
    "collapsed": false
   }
  },
  {
   "cell_type": "code",
   "execution_count": 61,
   "outputs": [
    {
     "name": "stdout",
     "output_type": "stream",
     "text": [
      "Result = \n",
      " Translation X = 6.499948849543395\n",
      " Translation Y = 8.501233774350613\n"
     ]
    }
   ],
   "source": [
    "import SimpleITK as sitk\n",
    "\n",
    "def register_images(fixed_filepath, moving_filepath, output_filepath):\n",
    "    PixelType = itk.ctype(\"float\")\n",
    "    fixed_image = itk.imread(fixed_filepath, PixelType)\n",
    "    moving_image = itk.imread(moving_filepath, PixelType)\n",
    "\n",
    "    Dimension = fixed_image.GetImageDimension()\n",
    "    FixedImageType = type(fixed_image)\n",
    "    MovingImageType = type(moving_image)\n",
    "\n",
    "    TransformType = itk.TranslationTransform[itk.D, Dimension]\n",
    "    initial_transform = TransformType.New()\n",
    "\n",
    "    optimizer = itk.RegularStepGradientDescentOptimizerv4.New()\n",
    "    optimizer.SetLearningRate(4)\n",
    "    optimizer.SetMinimumStepLength(0.001)\n",
    "    optimizer.SetNumberOfIterations(200)\n",
    "\n",
    "    metric = itk.MattesMutualInformationImageToImageMetricv4[FixedImageType, MovingImageType].New()\n",
    "\n",
    "    registration = itk.ImageRegistrationMethodv4.New(FixedImage=fixed_image, MovingImage=moving_image, Metric=metric,\n",
    "                                                     Optimizer=optimizer, InitialTransform=initial_transform)\n",
    "\n",
    "    registration.SetMovingInitialTransform(initial_transform)\n",
    "    identity_transform = TransformType.New()\n",
    "    identity_transform.SetIdentity()\n",
    "    registration.SetFixedInitialTransform(identity_transform)\n",
    "\n",
    "    registration.Update()\n",
    "\n",
    "    transform = registration.GetTransform()\n",
    "    final_parameters = transform.GetParameters()\n",
    "    translation_x = final_parameters[0]\n",
    "    translation_y = final_parameters[1]\n",
    "\n",
    "    print(\"Result = \")\n",
    "    print(\" Translation X = \" + str(translation_x))\n",
    "    print(\" Translation Y = \" + str(translation_y))\n",
    "\n",
    "    resampler = itk.ResampleImageFilter.New(Input=moving_image, Transform=transform, UseReferenceImage=True, ReferenceImage=fixed_image)\n",
    "\n",
    "    resampler.SetInterpolator(itk.NearestNeighborInterpolateImageFunction[FixedImageType, itk.D].New())\n",
    "\n",
    "\n",
    "    resampler.SetDefaultPixelValue(100)\n",
    "\n",
    "    OutputPixelType = itk.ctype(\"unsigned char\")\n",
    "    OutputImageType = itk.Image[OutputPixelType, Dimension]\n",
    "\n",
    "    caster = itk.CastImageFilter[FixedImageType, OutputImageType].New(resampler)\n",
    "    itk.imwrite(caster, output_filepath)\n",
    "\n",
    "# Use the function:\n",
    "register_images(\"/home/scott/epita/ITKVTK_PROJECT/Data/BrainProtonDensitySliceBorder20.png\", \"/home/scott/epita/ITKVTK_PROJECT/Data/BrainProtonDensitySliceShifted13x17y.png\", \"brain-registered.png\")\n"
   ],
   "metadata": {
    "collapsed": false,
    "ExecuteTime": {
     "end_time": "2023-07-15T16:18:34.427683361Z",
     "start_time": "2023-07-15T16:18:34.251321629Z"
    }
   }
  },
  {
   "cell_type": "markdown",
   "source": [
    "Essayer de diminuer le nombre d’itérations pour voir comment l’optimisation se comporte"
   ],
   "metadata": {
    "collapsed": false
   }
  },
  {
   "cell_type": "code",
   "execution_count": 51,
   "outputs": [],
   "source": [],
   "metadata": {
    "collapsed": false,
    "ExecuteTime": {
     "end_time": "2023-07-15T16:03:25.906461310Z",
     "start_time": "2023-07-15T16:03:25.896135031Z"
    }
   }
  },
  {
   "cell_type": "markdown",
   "source": [
    "# Exercice 7 : Recalage par transformation rigide\n",
    "A partir de l’exercice précédent, écrire un programme qui effectue le recalage de l’image BrainProtonDensitySliceR10X13Y17.png (moving) avec BrainProtonDensitySliceBorder20.png (fixed) en utilisant une transformation rigide.\n",
    "\n",
    "Astuces :\n",
    "1. Il peut être utile de fixer le centre de rotation.\n",
    "2. Il peut être nécessaire d’utiliser la fonction SetScales() sur l’optimizer\n"
   ],
   "metadata": {
    "collapsed": false
   }
  },
  {
   "cell_type": "code",
   "execution_count": null,
   "outputs": [],
   "source": [],
   "metadata": {
    "collapsed": false
   }
  },
  {
   "cell_type": "markdown",
   "source": [
    "# Exercice 8 : Recalage par information mutuelle\n",
    "A partir de l’exercice précédent, écrire un programme qui effectue le recalage de l’image BrainProtonDensitySliceR10X13Y17.png (moving) avec BrainT1SliceBorder20.png (fixed) en utilisant une transformation itkSimilarity2DTransform et la métrique d’information mutuelle par Mattes (itkMattesMutualInformationImageToImageMetricv4)."
   ],
   "metadata": {
    "collapsed": false
   }
  },
  {
   "cell_type": "code",
   "execution_count": null,
   "outputs": [],
   "source": [],
   "metadata": {
    "collapsed": false
   }
  },
  {
   "cell_type": "markdown",
   "source": [
    "Quels sont les paramètres de cette métrique qui peuvent influencer le résultat du recalage ?"
   ],
   "metadata": {
    "collapsed": false
   }
  },
  {
   "cell_type": "code",
   "execution_count": null,
   "outputs": [],
   "source": [],
   "metadata": {
    "collapsed": false
   }
  }
 ],
 "metadata": {
  "kernelspec": {
   "display_name": "Python 3",
   "language": "python",
   "name": "python3"
  },
  "language_info": {
   "codemirror_mode": {
    "name": "ipython",
    "version": 2
   },
   "file_extension": ".py",
   "mimetype": "text/x-python",
   "name": "python",
   "nbconvert_exporter": "python",
   "pygments_lexer": "ipython2",
   "version": "2.7.6"
  }
 },
 "nbformat": 4,
 "nbformat_minor": 0
}
